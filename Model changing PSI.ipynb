{
 "cells": [
  {
   "cell_type": "code",
   "execution_count": 1,
   "metadata": {},
   "outputs": [],
   "source": [
    "import numpy as np \n",
    "import pandas as pd"
   ]
  },
  {
   "cell_type": "code",
   "execution_count": 2,
   "metadata": {},
   "outputs": [],
   "source": [
    "first = pd.read_csv('first_dataset.csv')"
   ]
  },
  {
   "cell_type": "code",
   "execution_count": 3,
   "metadata": {},
   "outputs": [],
   "source": [
    "from sklearn.model_selection import train_test_split"
   ]
  },
  {
   "cell_type": "code",
   "execution_count": 4,
   "metadata": {},
   "outputs": [],
   "source": [
    "X = first.drop('loan_status',axis = 1)\n",
    "y = first['loan_status']\n",
    "X_train,X_test,y_train,y_test = train_test_split(X,y,test_size = 0.2 , random_state = 42)"
   ]
  },
  {
   "cell_type": "code",
   "execution_count": 5,
   "metadata": {},
   "outputs": [],
   "source": [
    "first.drop('Unnamed: 0',axis = 1,inplace = True)"
   ]
  },
  {
   "cell_type": "code",
   "execution_count": 6,
   "metadata": {},
   "outputs": [
    {
     "name": "stderr",
     "output_type": "stream",
     "text": [
      "D:\\Users\\Asus\\anaconda3\\lib\\site-packages\\IPython\\core\\interactiveshell.py:3063: DtypeWarning: Columns (19,55) have mixed types.Specify dtype option on import or set low_memory=False.\n",
      "  interactivity=interactivity, compiler=compiler, result=result)\n"
     ]
    }
   ],
   "source": [
    "backup = pd.read_csv('loan_data_2015.csv')"
   ]
  },
  {
   "cell_type": "code",
   "execution_count": 7,
   "metadata": {},
   "outputs": [],
   "source": [
    "\n",
    "\n",
    "backup['term'] = pd.to_numeric(backup['term'].str.replace('months',''))\n",
    "median = ['revol_util','annual_inc']\n",
    "for i in median:\n",
    "    backup[i] = backup[i].fillna(backup[i].median())\n",
    "\n",
    "\n",
    "\n",
    "\n",
    "backup['issue_d'] = pd.to_datetime(backup['issue_d'],format = '%b-%y')\n",
    "backup['issue_d'] = round(pd.to_numeric((pd.to_datetime('2017-05-01') - backup['issue_d'])/np.timedelta64(1,'M')))\n",
    "backup['earliest_cr_line'] = pd.to_datetime(backup['earliest_cr_line'],format = '%b-%y')\n",
    "backup['earliest_cr_line'] = round(pd.to_numeric((pd.to_datetime('2017-05-01') - backup['earliest_cr_line'])/np.timedelta64(1,'M')))\n",
    "\n",
    "backup['loan_status'] = np.where(backup['loan_status'].isin(['Does not meet the credit policy. Status:Charged Off',\n",
    "                                                    'Default','Charged Off','Late (31-120 days)']),0,1)\n",
    "backup['last_credit_pull_d'].fillna(backup['last_credit_pull_d'].mode()[0],inplace = True)\n",
    "backup['last_credit_pull_d'] = pd.to_datetime(backup['last_credit_pull_d'],format = '%b-%y')\n",
    "backup['last_credit_pull_d'] = round(pd.to_numeric((pd.to_datetime('2017-05-01') - backup['last_credit_pull_d'])/np.timedelta64(1,'M')))"
   ]
  },
  {
   "cell_type": "code",
   "execution_count": 8,
   "metadata": {},
   "outputs": [],
   "source": [
    "columns = ['grade',\n",
    " 'sub_grade',\n",
    " 'home_ownership',\n",
    " 'verification_status',\n",
    " 'purpose',\n",
    " 'loan_status',\n",
    " 'recoveries',\n",
    " 'collection_recovery_fee',\n",
    " 'total_rec_prncp',\n",
    " 'total_pymnt_inv',\n",
    " 'total_pymnt',\n",
    " 'int_rate',\n",
    " 'last_pymnt_amnt',\n",
    " 'out_prncp',\n",
    " 'out_prncp_inv',\n",
    " 'total_rec_late_fee',\n",
    " 'last_credit_pull_d',\n",
    " 'issue_d',\n",
    " 'inq_last_6mths',\n",
    " 'term',\n",
    " 'revol_util',\n",
    " 'annual_inc',\n",
    " 'dti',\n",
    " 'earliest_cr_line',\n",
    " 'total_rec_int',\n",
    " 'total_rev_hi_lim']\n"
   ]
  },
  {
   "cell_type": "code",
   "execution_count": 9,
   "metadata": {},
   "outputs": [],
   "source": [
    "backup = backup[columns]"
   ]
  },
  {
   "cell_type": "code",
   "execution_count": 10,
   "metadata": {},
   "outputs": [],
   "source": [
    "obj_df = pd.DataFrame(data = backup , columns = backup.columns[backup.dtypes == 'O'])\n",
    "obj_df = pd.get_dummies(obj_df,prefix_sep = ':')\n",
    "X = pd.concat([obj_df,backup.iloc[:,4:26],backup['loan_status']],axis =1)"
   ]
  },
  {
   "cell_type": "code",
   "execution_count": 11,
   "metadata": {},
   "outputs": [],
   "source": [
    "        X_new = X.loc[:, 'grade:A': 'grade:G']\n",
    "        X_new['home_ownership:OWN'] = X.loc[:,'home_ownership:OWN']\n",
    "        X_new['home_ownership:MORTGAGE'] = X.loc[:,'home_ownership:MORTGAGE']\n",
    "        X_new['home_ownership:OTHER_NONE_RENT'] = sum([X['home_ownership:RENT']])\n",
    "        X_new = pd.concat([X_new, X.loc[:, 'verification_status:Not Verified':'verification_status:Verified']], axis = 1)\n",
    "        X_new['purpose:debt_consolidation'] = X.loc[:,'purpose:debt_consolidation']\n",
    "        X_new['purpose:credit_card'] = X.loc[:,'purpose:credit_card']\n",
    "        X_new['purpose:major_purch__car__home_impr'] = sum([X['purpose:major_purchase'], X['purpose:car'], X['purpose:home_improvement']])\n",
    "        X_new['purpose:educ__ren_en__sm_b__mov'] = sum([X['purpose:educational'], X['purpose:renewable_energy'], X['purpose:small_business'], \n",
    "                                                        X['purpose:moving']])\n",
    "        X_new['purpose:vacation__house__wedding__med__oth'] = sum([X['purpose:vacation'], X['purpose:house'], X['purpose:wedding'], \n",
    "                                                                   X['purpose:medical'], X['purpose:other']])\n",
    "        X_new['term:36'] = np.where((X['term'] == 36), 1, 0)\n",
    "        X_new['term:60'] = np.where((X['term'] == 60), 1, 0)\n",
    "        X_new['int_rate:<7.071'] = np.where((X['int_rate'] <= 7.071), 1, 0)\n",
    "        X_new['int_rate:7.071-10.374'] = np.where((X['int_rate'] > 7.071) & (X['int_rate'] <= 10.374), 1, 0)\n",
    "        X_new['int_rate:10.374-13.676'] = np.where((X['int_rate'] > 10.374) & (X['int_rate'] <= 13.676), 1, 0)\n",
    "        X_new['int_rate:13.676-15.74'] = np.where((X['int_rate'] > 13.676) & (X['int_rate'] <= 15.74), 1, 0)\n",
    "        X_new['int_rate:15.74-20.281'] = np.where((X['int_rate'] > 15.74) & (X['int_rate'] <= 20.281), 1, 0)\n",
    "        X_new['int_rate:>20.281'] = np.where((X['int_rate'] > 20.281), 1, 0)\n",
    "        X_new['annual_inc:missing'] = np.where(X['annual_inc'].isnull(), 1, 0)\n",
    "        X_new['annual_inc:<28,555'] = np.where((X['annual_inc'] <= 28555), 1, 0)\n",
    "        X_new['annual_inc:28,555-37,440'] = np.where((X['annual_inc'] > 28555) & (X['annual_inc'] <= 37440), 1, 0)\n",
    "        X_new['annual_inc:37,440-61,137'] = np.where((X['annual_inc'] > 37440) & (X['annual_inc'] <= 61137), 1, 0)\n",
    "        X_new['annual_inc:61,137-81,872'] = np.where((X['annual_inc'] > 61137) & (X['annual_inc'] <= 81872), 1, 0)\n",
    "        X_new['annual_inc:81,872-102,606'] = np.where((X['annual_inc'] > 81872) & (X['annual_inc'] <= 102606), 1, 0)\n",
    "        X_new['annual_inc:102,606-120,379'] = np.where((X['annual_inc'] > 102606) & (X['annual_inc'] <= 120379), 1, 0)\n",
    "        X_new['annual_inc:120,379-150,000'] = np.where((X['annual_inc'] > 120379) & (X['annual_inc'] <= 150000), 1, 0)\n",
    "        X_new['annual_inc:>150K'] = np.where((X['annual_inc'] > 150000), 1, 0)\n",
    "        X_new['dti:<=1.6'] = np.where((X['dti'] <= 1.6), 1, 0)\n",
    "        X_new['dti:1.6-5.599'] = np.where((X['dti'] > 1.6) & (X['dti'] <= 5.599), 1, 0)\n",
    "        X_new['dti:5.599-10.397'] = np.where((X['dti'] > 5.599) & (X['dti'] <= 10.397), 1, 0)\n",
    "        X_new['dti:10.397-15.196'] = np.where((X['dti'] > 10.397) & (X['dti'] <= 15.196), 1, 0)\n",
    "        X_new['dti:15.196-19.195'] = np.where((X['dti'] > 15.196) & (X['dti'] <= 19.195), 1, 0)\n",
    "        X_new['dti:19.195-24.794'] = np.where((X['dti'] > 19.195) & (X['dti'] <= 24.794), 1, 0)\n",
    "        X_new['dti:24.794-35.191'] = np.where((X['dti'] > 24.794) & (X['dti'] <= 35.191), 1, 0)\n",
    "        X_new['dti:>35.191'] = np.where((X['dti'] > 35.191), 1, 0)\n",
    "        X_new['inq_last_6mths:missing'] = np.where(X['inq_last_6mths'].isnull(), 1, 0)\n",
    "        X_new['inq_last_6mths:0'] = np.where((X['inq_last_6mths'] == 0), 1, 0)\n",
    "        X_new['inq_last_6mths:1-2'] = np.where((X['inq_last_6mths'] >= 1) & (X['inq_last_6mths'] <= 2), 1, 0)\n",
    "        X_new['inq_last_6mths:3-4'] = np.where((X['inq_last_6mths'] >= 3) & (X['inq_last_6mths'] <= 4), 1, 0)\n",
    "        X_new['inq_last_6mths:>4'] = np.where((X['inq_last_6mths'] > 4), 1, 0)\n",
    "        X_new['revol_util:missing'] = np.where(X['revol_util'].isnull(), 1, 0)\n",
    "        X_new['revol_util:<0.1'] = np.where((X['revol_util'] <= 0.1), 1, 0)\n",
    "        X_new['revol_util:0.1-0.2'] = np.where((X['revol_util'] > 0.1) & (X['revol_util'] <= 0.2), 1, 0)\n",
    "        X_new['revol_util:0.2-0.3'] = np.where((X['revol_util'] > 0.2) & (X['revol_util'] <= 0.3), 1, 0)\n",
    "        X_new['revol_util:0.3-0.4'] = np.where((X['revol_util'] > 0.3) & (X['revol_util'] <= 0.4), 1, 0)\n",
    "        X_new['revol_util:0.4-0.5'] = np.where((X['revol_util'] > 0.4) & (X['revol_util'] <= 0.5), 1, 0)\n",
    "        X_new['revol_util:0.5-0.6'] = np.where((X['revol_util'] > 0.5) & (X['revol_util'] <= 0.6), 1, 0)\n",
    "        X_new['revol_util:0.6-0.7'] = np.where((X['revol_util'] > 0.6) & (X['revol_util'] <= 0.7), 1, 0)\n",
    "        X_new['revol_util:0.7-0.8'] = np.where((X['revol_util'] > 0.7) & (X['revol_util'] <= 0.8), 1, 0)\n",
    "        X_new['revol_util:0.8-0.9'] = np.where((X['revol_util'] > 0.8) & (X['revol_util'] <= 0.9), 1, 0)\n",
    "        X_new['revol_util:0.9-1.0'] = np.where((X['revol_util'] > 0.9) & (X['revol_util'] <= 1.0), 1, 0)\n",
    "        X_new['revol_util:>1.0'] = np.where((X['revol_util'] > 1.0), 1, 0)\n",
    "        X_new['out_prncp:<1,286'] = np.where((X['out_prncp'] <= 1286), 1, 0)\n",
    "        X_new['out_prncp:1,286-6,432'] = np.where((X['out_prncp'] > 1286) & (X['out_prncp'] <= 6432), 1, 0)\n",
    "        X_new['out_prncp:6,432-9,005'] = np.where((X['out_prncp'] > 6432) & (X['out_prncp'] <= 9005), 1, 0)\n",
    "        X_new['out_prncp:9,005-10,291'] = np.where((X['out_prncp'] > 9005) & (X['out_prncp'] <= 10291), 1, 0)\n",
    "        X_new['out_prncp:10,291-15,437'] = np.where((X['out_prncp'] > 10291) & (X['out_prncp'] <= 15437), 1, 0)\n",
    "        X_new['out_prncp:>15,437'] = np.where((X['out_prncp'] > 15437), 1, 0)\n",
    "        X_new['total_pymnt:<10,000'] = np.where((X['total_pymnt'] <= 10000), 1, 0)\n",
    "        X_new['total_pymnt:10,000-15,000'] = np.where((X['total_pymnt'] > 10000) & (X['total_pymnt'] <= 15000), 1, 0)\n",
    "        X_new['total_pymnt:15,000-20,000'] = np.where((X['total_pymnt'] > 15000) & (X['total_pymnt'] <= 20000), 1, 0)\n",
    "        X_new['total_pymnt:20,000-25,000'] = np.where((X['total_pymnt'] > 20000) & (X['total_pymnt'] <= 25000), 1, 0)\n",
    "        X_new['total_pymnt:>25,000'] = np.where((X['total_pymnt'] > 25000), 1, 0)\n",
    "        X_new['total_rec_int:<1,089'] = np.where((X['total_rec_int'] <= 1089), 1, 0)\n",
    "        X_new['total_rec_int:1,089-2,541'] = np.where((X['total_rec_int'] > 1089) & (X['total_rec_int'] <= 2541), 1, 0)\n",
    "        X_new['total_rec_int:2,541-4,719'] = np.where((X['total_rec_int'] > 2541) & (X['total_rec_int'] <= 4719), 1, 0)\n",
    "        X_new['total_rec_int:4,719-7,260'] = np.where((X['total_rec_int'] > 4719) & (X['total_rec_int'] <= 7260), 1, 0)\n",
    "        X_new['total_rec_int:>7,260'] = np.where((X['total_rec_int'] > 7260), 1, 0)\n",
    "        X_new['total_rev_hi_lim:missing'] = np.where(X['total_rev_hi_lim'].isnull(), 1, 0)\n",
    "        X_new['total_rev_hi_lim:<6,381'] = np.where((X['total_rev_hi_lim'] <= 6381), 1, 0)\n",
    "        X_new['total_rev_hi_lim:6,381-19,144'] = np.where((X['total_rev_hi_lim'] > 6381) & (X['total_rev_hi_lim'] <= 19144), 1, 0)\n",
    "        X_new['total_rev_hi_lim:19,144-25,525'] = np.where((X['total_rev_hi_lim'] > 19144) & (X['total_rev_hi_lim'] <= 25525), 1, 0)\n",
    "        X_new['total_rev_hi_lim:25,525-35,097'] = np.where((X['total_rev_hi_lim'] > 25525) & (X['total_rev_hi_lim'] <= 35097), 1, 0)\n",
    "        X_new['total_rev_hi_lim:35,097-54,241'] = np.where((X['total_rev_hi_lim'] > 35097) & (X['total_rev_hi_lim'] <= 54241), 1, 0)\n",
    "        X_new['total_rev_hi_lim:54,241-79,780'] = np.where((X['total_rev_hi_lim'] > 54241) & (X['total_rev_hi_lim'] <= 79780), 1, 0)\n",
    "        X_new['total_rev_hi_lim:>79,780'] = np.where((X['total_rev_hi_lim'] > 79780), 1, 0)\n",
    "        X_new['mths_since_earliest_cr_line:missing'] = np.where(X['earliest_cr_line'].isnull(), 1, 0)\n",
    "        X_new['mths_since_earliest_cr_line:<125'] = np.where((X['earliest_cr_line'] <= 125), 1, 0)\n",
    "        X_new['mths_since_earliest_cr_line:125-167'] = np.where((X['earliest_cr_line'] > 125) & (X['earliest_cr_line'] <= 167), 1, 0)\n",
    "        X_new['mths_since_earliest_cr_line:167-249'] = np.where((X['earliest_cr_line'] > 167) & (X['earliest_cr_line'] <= 249), 1, 0)\n",
    "        X_new['mths_since_earliest_cr_line:249-331'] = np.where((X['earliest_cr_line'] > 249) & (X['earliest_cr_line'] <= 331), 1, 0)\n",
    "        X_new['mths_since_earliest_cr_line:331-434'] = np.where((X['earliest_cr_line'] > 331) & (X['earliest_cr_line'] <= 434), 1, 0)\n",
    "        X_new['mths_since_earliest_cr_line:>434'] = np.where((X['earliest_cr_line'] > 434), 1, 0)\n",
    "        X_new['mths_since_issue_d:<79'] = np.where((X['issue_d'] <= 79), 1, 0)\n",
    "        X_new['mths_since_issue_d:79-89'] = np.where((X['issue_d'] > 79) & (X['issue_d'] <= 89), 1, 0)\n",
    "        X_new['mths_since_issue_d:89-100'] = np.where((X['issue_d'] > 89) & (X['issue_d'] <= 100), 1, 0)\n",
    "        X_new['mths_since_issue_d:100-122'] = np.where((X['issue_d'] > 100) & (X['issue_d'] <= 122), 1, 0)\n",
    "        X_new['mths_since_issue_d:>122'] = np.where((X['issue_d'] > 122), 1, 0)\n",
    "        X_new['mths_since_last_credit_pull_d:missing'] = np.where(X['last_credit_pull_d'].isnull(), 1, 0)\n",
    "        X_new['mths_since_last_credit_pull_d:<56'] = np.where((X['last_credit_pull_d'] <= 56), 1, 0)\n",
    "        X_new['mths_since_last_credit_pull_d:56-61'] = np.where((X['last_credit_pull_d'] > 56) & (X['last_credit_pull_d'] <= 61), 1, 0)\n",
    "        X_new['mths_since_last_credit_pull_d:61-75'] = np.where((X['last_credit_pull_d'] > 61) & (X['last_credit_pull_d'] <= 75), 1, 0)\n",
    "        X_new['mths_since_last_credit_pull_d:>75'] = np.where((X['last_credit_pull_d'] > 75), 1, 0)\n",
    "        X_new = pd.concat([backup['loan_status'],X_new],axis = 1)"
   ]
  },
  {
   "cell_type": "code",
   "execution_count": 12,
   "metadata": {},
   "outputs": [],
   "source": [
    "df_scorecard = pd.read_csv('df_scorecard.csv')"
   ]
  },
  {
   "cell_type": "code",
   "execution_count": 13,
   "metadata": {},
   "outputs": [],
   "source": [
    "first.insert(0, 'Intercept', 1)\n",
    "first = first[df_scorecard['Feature name'].values]"
   ]
  },
  {
   "cell_type": "code",
   "execution_count": 14,
   "metadata": {},
   "outputs": [],
   "source": [
    "X_new.insert(0,'Intercept',1)\n",
    "X_new = X_new[df_scorecard['Feature name'].values]"
   ]
  },
  {
   "cell_type": "code",
   "execution_count": 15,
   "metadata": {},
   "outputs": [],
   "source": [
    "scores = df_scorecard['Score - Preliminary']"
   ]
  },
  {
   "cell_type": "code",
   "execution_count": 16,
   "metadata": {},
   "outputs": [],
   "source": [
    "scores = scores.values.reshape(85,1)"
   ]
  },
  {
   "cell_type": "code",
   "execution_count": 17,
   "metadata": {},
   "outputs": [],
   "source": [
    "y_scores_train = first.dot(scores)\n",
    "y_scores_backup = X_new.dot(scores)"
   ]
  },
  {
   "cell_type": "code",
   "execution_count": 18,
   "metadata": {},
   "outputs": [],
   "source": [
    "X_new = pd.concat([X_new,y_scores_backup],axis = 1)\n",
    "first = pd.concat([first,y_scores_train],axis = 1)"
   ]
  },
  {
   "cell_type": "code",
   "execution_count": 19,
   "metadata": {},
   "outputs": [],
   "source": [
    "X_new.columns.values[X_new.shape[1] - 1] = 'Score'\n",
    "first.columns.values[first.shape[1] - 1] = 'Score'"
   ]
  },
  {
   "cell_type": "code",
   "execution_count": 20,
   "metadata": {},
   "outputs": [],
   "source": [
    "X_new['Score:350-400'] = np.where((X_new['Score'] >= 351) & (X_new['Score'] < 400), 1, 0)\n",
    "X_new['Score:400-450'] = np.where((X_new['Score'] >= 400) & (X_new['Score'] < 450), 1, 0)\n",
    "X_new['Score:450-500'] = np.where((X_new['Score'] >= 450) & (X_new['Score'] < 500), 1, 0)\n",
    "X_new['Score:500-550'] = np.where((X_new['Score'] >= 500) & (X_new['Score'] < 550), 1, 0)\n",
    "X_new['Score:550-600'] = np.where((X_new['Score'] >= 550) & (X_new['Score'] < 600), 1, 0)\n",
    "X_new['Score:600-650'] = np.where((X_new['Score'] >= 600) & (X_new['Score'] < 650), 1, 0)\n",
    "X_new['Score:650-700'] = np.where((X_new['Score'] >= 650) & (X_new['Score'] < 700), 1, 0)\n",
    "X_new['Score:700-750'] = np.where((X_new['Score'] >= 700) & (X_new['Score'] < 750), 1, 0)\n",
    "X_new['Score:750-800'] = np.where((X_new['Score'] >= 750) & (X_new['Score'] < 800), 1, 0)\n",
    "\n",
    "# We create dummy variables for score intervals in the dataframe with old (\"expected\")."
   ]
  },
  {
   "cell_type": "code",
   "execution_count": 21,
   "metadata": {},
   "outputs": [],
   "source": [
    "first['Score:300-350'] = np.where((first['Score'] >= 300) & (first['Score'] < 351), 1, 0)\n",
    "first['Score:350-400'] = np.where((first['Score'] >= 351) & (first['Score'] < 400), 1, 0)\n",
    "first['Score:400-450'] = np.where((first['Score'] >= 400) & (first['Score'] < 450), 1, 0)\n",
    "first['Score:450-500'] = np.where((first['Score'] >= 450) & (first['Score'] < 500), 1, 0)\n",
    "first['Score:500-550'] = np.where((first['Score'] >= 500) & (first['Score'] < 550), 1, 0)\n",
    "first['Score:550-600'] = np.where((first['Score'] >= 550) & (first['Score'] < 600), 1, 0)\n",
    "first['Score:600-650'] = np.where((first['Score'] >= 600) & (first['Score'] < 650), 1, 0)\n",
    "first['Score:650-700'] = np.where((first['Score'] >= 650) & (first['Score'] < 700), 1, 0)\n",
    "first['Score:700-750'] = np.where((first['Score'] >= 700) & (first['Score'] < 750), 1, 0)\n",
    "first['Score:750-800'] = np.where((first['Score'] >= 750) & (first['Score'] < 800), 1, 0)\n",
    "first['Score:800-850'] = np.where((first['Score'] >= 800) & (first['Score'] <= 850), 1, 0)\n",
    "# We create dummy variables for score intervals in the dataframe with new (\"actual\")."
   ]
  },
  {
   "cell_type": "code",
   "execution_count": 22,
   "metadata": {},
   "outputs": [],
   "source": [
    "PSI_calc_train = first.sum() / first.shape[0]\n",
    "PSI_calc_new = X_new.sum() / X_new.shape[0]"
   ]
  },
  {
   "cell_type": "code",
   "execution_count": 23,
   "metadata": {},
   "outputs": [
    {
     "name": "stderr",
     "output_type": "stream",
     "text": [
      "D:\\Users\\Asus\\anaconda3\\lib\\site-packages\\pandas\\core\\series.py:679: RuntimeWarning: divide by zero encountered in log\n",
      "  result = getattr(ufunc, method)(*inputs, **kwargs)\n"
     ]
    }
   ],
   "source": [
    "PSI = pd.concat([PSI_calc_train,PSI_calc_new],axis = 1)\n",
    "PSI = PSI.reset_index()\n",
    "PSI.columns = ['index', 'Proportions_Train', 'Proportions_New']\n",
    "PSI['Original_name'] = PSI['index'].str.split(':').str[0]\n",
    "PSI = PSI[np.array(['index', 'Original_name', 'Proportions_Train', 'Proportions_New'])]\n",
    "PSI = PSI[(PSI['index'] != 'Intercept')]\n",
    "\n",
    "PSI['Contribution'] = np.where((PSI['Proportions_Train'] == 0) | (PSI['Proportions_New'] == 0),\n",
    "                               0, (PSI['Proportions_New'] - PSI['Proportions_Train']) * np.log(PSI['Proportions_New'] / PSI['Proportions_Train']))"
   ]
  },
  {
   "cell_type": "code",
   "execution_count": 24,
   "metadata": {},
   "outputs": [
    {
     "data": {
      "text/html": [
       "<div>\n",
       "<style scoped>\n",
       "    .dataframe tbody tr th:only-of-type {\n",
       "        vertical-align: middle;\n",
       "    }\n",
       "\n",
       "    .dataframe tbody tr th {\n",
       "        vertical-align: top;\n",
       "    }\n",
       "\n",
       "    .dataframe thead th {\n",
       "        text-align: right;\n",
       "    }\n",
       "</style>\n",
       "<table border=\"1\" class=\"dataframe\">\n",
       "  <thead>\n",
       "    <tr style=\"text-align: right;\">\n",
       "      <th></th>\n",
       "      <th>index</th>\n",
       "      <th>Original_name</th>\n",
       "      <th>Proportions_Train</th>\n",
       "      <th>Proportions_New</th>\n",
       "      <th>Contribution</th>\n",
       "    </tr>\n",
       "  </thead>\n",
       "  <tbody>\n",
       "    <tr>\n",
       "      <th>1</th>\n",
       "      <td>grade:A</td>\n",
       "      <td>grade</td>\n",
       "      <td>0.160561</td>\n",
       "      <td>0.174154</td>\n",
       "      <td>1.104638e-03</td>\n",
       "    </tr>\n",
       "    <tr>\n",
       "      <th>2</th>\n",
       "      <td>grade:B</td>\n",
       "      <td>grade</td>\n",
       "      <td>0.293659</td>\n",
       "      <td>0.279287</td>\n",
       "      <td>7.212416e-04</td>\n",
       "    </tr>\n",
       "    <tr>\n",
       "      <th>3</th>\n",
       "      <td>grade:C</td>\n",
       "      <td>grade</td>\n",
       "      <td>0.268705</td>\n",
       "      <td>0.286318</td>\n",
       "      <td>1.118323e-03</td>\n",
       "    </tr>\n",
       "    <tr>\n",
       "      <th>4</th>\n",
       "      <td>grade:D</td>\n",
       "      <td>grade</td>\n",
       "      <td>0.164895</td>\n",
       "      <td>0.148789</td>\n",
       "      <td>1.655420e-03</td>\n",
       "    </tr>\n",
       "    <tr>\n",
       "      <th>5</th>\n",
       "      <td>grade:E</td>\n",
       "      <td>grade</td>\n",
       "      <td>0.076685</td>\n",
       "      <td>0.082993</td>\n",
       "      <td>4.987245e-04</td>\n",
       "    </tr>\n",
       "    <tr>\n",
       "      <th>...</th>\n",
       "      <td>...</td>\n",
       "      <td>...</td>\n",
       "      <td>...</td>\n",
       "      <td>...</td>\n",
       "      <td>...</td>\n",
       "    </tr>\n",
       "    <tr>\n",
       "      <th>92</th>\n",
       "      <td>Score:600-650</td>\n",
       "      <td>Score</td>\n",
       "      <td>0.121887</td>\n",
       "      <td>0.304158</td>\n",
       "      <td>1.666783e-01</td>\n",
       "    </tr>\n",
       "    <tr>\n",
       "      <th>93</th>\n",
       "      <td>Score:650-700</td>\n",
       "      <td>Score</td>\n",
       "      <td>0.029079</td>\n",
       "      <td>0.012316</td>\n",
       "      <td>1.440209e-02</td>\n",
       "    </tr>\n",
       "    <tr>\n",
       "      <th>94</th>\n",
       "      <td>Score:700-750</td>\n",
       "      <td>Score</td>\n",
       "      <td>0.002097</td>\n",
       "      <td>0.000798</td>\n",
       "      <td>1.255919e-03</td>\n",
       "    </tr>\n",
       "    <tr>\n",
       "      <th>95</th>\n",
       "      <td>Score:750-800</td>\n",
       "      <td>Score</td>\n",
       "      <td>0.000028</td>\n",
       "      <td>0.000031</td>\n",
       "      <td>3.050096e-07</td>\n",
       "    </tr>\n",
       "    <tr>\n",
       "      <th>96</th>\n",
       "      <td>Score:800-850</td>\n",
       "      <td>Score</td>\n",
       "      <td>0.000000</td>\n",
       "      <td>NaN</td>\n",
       "      <td>0.000000e+00</td>\n",
       "    </tr>\n",
       "  </tbody>\n",
       "</table>\n",
       "<p>96 rows × 5 columns</p>\n",
       "</div>"
      ],
      "text/plain": [
       "            index Original_name  Proportions_Train  Proportions_New  \\\n",
       "1         grade:A         grade           0.160561         0.174154   \n",
       "2         grade:B         grade           0.293659         0.279287   \n",
       "3         grade:C         grade           0.268705         0.286318   \n",
       "4         grade:D         grade           0.164895         0.148789   \n",
       "5         grade:E         grade           0.076685         0.082993   \n",
       "..            ...           ...                ...              ...   \n",
       "92  Score:600-650         Score           0.121887         0.304158   \n",
       "93  Score:650-700         Score           0.029079         0.012316   \n",
       "94  Score:700-750         Score           0.002097         0.000798   \n",
       "95  Score:750-800         Score           0.000028         0.000031   \n",
       "96  Score:800-850         Score           0.000000              NaN   \n",
       "\n",
       "    Contribution  \n",
       "1   1.104638e-03  \n",
       "2   7.212416e-04  \n",
       "3   1.118323e-03  \n",
       "4   1.655420e-03  \n",
       "5   4.987245e-04  \n",
       "..           ...  \n",
       "92  1.666783e-01  \n",
       "93  1.440209e-02  \n",
       "94  1.255919e-03  \n",
       "95  3.050096e-07  \n",
       "96  0.000000e+00  \n",
       "\n",
       "[96 rows x 5 columns]"
      ]
     },
     "execution_count": 24,
     "metadata": {},
     "output_type": "execute_result"
    }
   ],
   "source": [
    "PSI"
   ]
  },
  {
   "cell_type": "code",
   "execution_count": 25,
   "metadata": {},
   "outputs": [],
   "source": [
    "PSI_summary = PSI.groupby('Original_name')['Contribution'].sum()"
   ]
  },
  {
   "cell_type": "code",
   "execution_count": 26,
   "metadata": {},
   "outputs": [
    {
     "data": {
      "text/plain": [
       "Original_name\n",
       "Score                            3.688244\n",
       "annual_inc                       0.003358\n",
       "dti                              0.029553\n",
       "grade                            0.006092\n",
       "home_ownership                   0.003858\n",
       "inq_last_6mths                   0.041696\n",
       "int_rate                         0.077247\n",
       "mths_since_earliest_cr_line      0.039665\n",
       "mths_since_issue_d               0.001358\n",
       "mths_since_last_credit_pull_d    0.000259\n",
       "out_prncp                        1.125681\n",
       "purpose                          0.007991\n",
       "revol_util                       0.000920\n",
       "term                             0.003919\n",
       "total_pymnt                      1.091373\n",
       "total_rec_int                    0.945275\n",
       "total_rev_hi_lim                 7.664048\n",
       "verification_status              0.043868\n",
       "Name: Contribution, dtype: float64"
      ]
     },
     "execution_count": 26,
     "metadata": {},
     "output_type": "execute_result"
    }
   ],
   "source": [
    "PSI_summary"
   ]
  }
 ],
 "metadata": {
  "kernelspec": {
   "display_name": "Python 3",
   "language": "python",
   "name": "python3"
  },
  "language_info": {
   "codemirror_mode": {
    "name": "ipython",
    "version": 3
   },
   "file_extension": ".py",
   "mimetype": "text/x-python",
   "name": "python",
   "nbconvert_exporter": "python",
   "pygments_lexer": "ipython3",
   "version": "3.7.6"
  }
 },
 "nbformat": 4,
 "nbformat_minor": 4
}
